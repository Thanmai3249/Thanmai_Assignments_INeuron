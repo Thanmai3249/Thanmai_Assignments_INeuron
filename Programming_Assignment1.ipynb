{
 "cells": [
  {
   "cell_type": "markdown",
   "id": "f33c9b92",
   "metadata": {},
   "source": [
    "'''\n",
    "1. Write a Python program to print &quot;Hello Python&quot;?\n",
    "2. Write a Python program to do arithmetical operations addition and division.?\n",
    "3. Write a Python program to find the area of a triangle?\n",
    "4. Write a Python program to swap two variables?\n",
    "5. Write a Python program to generate a random number?\n",
    "'''"
   ]
  },
  {
   "cell_type": "code",
   "execution_count": 2,
   "id": "8cbc3b97",
   "metadata": {},
   "outputs": [
    {
     "name": "stdout",
     "output_type": "stream",
     "text": [
      "&quot;Hello Python&quot;\n"
     ]
    }
   ],
   "source": [
    "#1. Write a Python program to print &quot;Hello Python&quot;?\n",
    "print('&quot;Hello Python&quot;')"
   ]
  },
  {
   "cell_type": "code",
   "execution_count": 16,
   "id": "aad66f6d",
   "metadata": {},
   "outputs": [
    {
     "name": "stdout",
     "output_type": "stream",
     "text": [
      "10\n",
      "20\n",
      "30\n",
      "200\n",
      "-10\n",
      "0.5\n"
     ]
    }
   ],
   "source": [
    "#2. Write a Python program to do arithmetical operations addition and division.?\n",
    "\n",
    "\n",
    "\n",
    "class operations:\n",
    "    \n",
    "    def arthematic_operations(a,b):\n",
    "        try:\n",
    "            addition = a+b\n",
    "            multiplication = a*b\n",
    "            substraction = a-b\n",
    "            division = a/b\n",
    "            print(addition)\n",
    "            print(multiplication)\n",
    "            print(substraction)\n",
    "            print(division)\n",
    "        except ZeroDivisionError:\n",
    "            print('enter non-zero denomination')\n",
    "        \n",
    "a = int(input())\n",
    "b = int(input())\n",
    "operations.arthematic_operations(a,b)"
   ]
  },
  {
   "cell_type": "code",
   "execution_count": 28,
   "id": "d9d8fd53",
   "metadata": {},
   "outputs": [
    {
     "name": "stdout",
     "output_type": "stream",
     "text": [
      "1.0\n"
     ]
    }
   ],
   "source": [
    "#3. Write a Python program to find the area of a triangle?\n",
    "\n",
    "\n",
    "def area(l,b):\n",
    "    try:\n",
    "        a = (1/2)*l*b\n",
    "        print(a)\n",
    "    except :\n",
    "        print('check the indentation & logic')\n",
    "\n",
    "area(1,2)"
   ]
  },
  {
   "cell_type": "code",
   "execution_count": 30,
   "id": "4a5e00ef",
   "metadata": {},
   "outputs": [
    {
     "name": "stdout",
     "output_type": "stream",
     "text": [
      "x =  20\n",
      "y =  10\n"
     ]
    }
   ],
   "source": [
    "#4. Write a Python program to swap two variables?\n",
    "x = 10\n",
    "y =20\n",
    "\n",
    "temp = x\n",
    "x = y\n",
    "y = temp\n",
    "\n",
    "print('x = ',x)\n",
    "print('y = ',y)"
   ]
  },
  {
   "cell_type": "code",
   "execution_count": 31,
   "id": "0c80346f",
   "metadata": {},
   "outputs": [
    {
     "data": {
      "text/plain": [
       "0.7202848326456631"
      ]
     },
     "execution_count": 31,
     "metadata": {},
     "output_type": "execute_result"
    }
   ],
   "source": [
    "#5. Write a Python program to generate a random number?\n",
    "import random\n",
    "n = random.random()\n",
    "n"
   ]
  },
  {
   "cell_type": "code",
   "execution_count": null,
   "id": "d0ee5471",
   "metadata": {},
   "outputs": [],
   "source": []
  },
  {
   "cell_type": "code",
   "execution_count": null,
   "id": "9c48ae16",
   "metadata": {},
   "outputs": [],
   "source": []
  }
 ],
 "metadata": {
  "kernelspec": {
   "display_name": "Python 3 (ipykernel)",
   "language": "python",
   "name": "python3"
  },
  "language_info": {
   "codemirror_mode": {
    "name": "ipython",
    "version": 3
   },
   "file_extension": ".py",
   "mimetype": "text/x-python",
   "name": "python",
   "nbconvert_exporter": "python",
   "pygments_lexer": "ipython3",
   "version": "3.9.7"
  }
 },
 "nbformat": 4,
 "nbformat_minor": 5
}
